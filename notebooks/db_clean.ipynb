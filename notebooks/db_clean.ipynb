{
 "cells": [
  {
   "cell_type": "code",
   "execution_count": null,
   "metadata": {},
   "outputs": [],
   "source": [
    "import pandas as pd\n",
    "import numpy as np\n",
    "import pickle \n",
    "import googlemaps\n",
    "import sqlalchemy as db\n",
    "from sqlalchemy import create_engine, select, insert"
   ]
  },
  {
   "cell_type": "code",
   "execution_count": null,
   "metadata": {},
   "outputs": [],
   "source": [
    "%%time\n",
    "july_trip = pd.read_csv(\"../data/july.csv\")\n",
    "\n",
    "july_trip.head()"
   ]
  },
  {
   "cell_type": "code",
   "execution_count": null,
   "metadata": {},
   "outputs": [],
   "source": [
    "#Join Tables for charge level, asssume charge level is total fuel consumption of vehicle\n",
    "#Analyze average\n",
    "#Change names\n",
    "#Funnel data into MySQL\n",
    "#Lambda based on metrics 50 points for mean lose of 10 points every negative standard deviation, add 50 points for every standard deviation\n",
    " ## Tire Pressure 70-80 psi lose of 0.003 mpg/ psi\n",
    " ## Fuel Consumption avg 6.5 mpg\n",
    " ## Idle Time >10 per trip. @60 mins burn 1 gallon of gas \n",
    " ## Avg Speed <55mph 1mph over results in 0.14 mpg in fuel economy \n",
    "\n",
    "# Generating report after trip. Lamdba triggered by end time\n",
    "# Schema\n",
    " ## Tire pressure (psi), fuel consumption (mpg), idle (minutes), avg speed (mpg), points,\n",
    " \n",
    "\n",
    "\n",
    "\n",
    "#Assumptions\n",
    "## We have 2000 drivers\n",
    "## No Driver sits idle for over 2 hours\n",
    "## Tire Pressures between 55-90 psi\n",
    "## No Driver is traveling over 90 mph\n",
    "## All trucks leaving frome Amazon Fulfillment Center BNA5 for Nashville orders "
   ]
  },
  {
   "cell_type": "code",
   "execution_count": null,
   "metadata": {},
   "outputs": [],
   "source": [
    "july_trip.info()"
   ]
  },
  {
   "cell_type": "code",
   "execution_count": null,
   "metadata": {},
   "outputs": [],
   "source": [
    "july_trip = july_trip[['pubTimeStamp', 'tripRecordNum', 'sumdID', 'tripDuration', 'tripDistance', 'startTime', 'endTime', 'startLatitude', 'startLongitude', 'endLatitude', 'endLongitude', 'tripRoute', 'startDate']]"
   ]
  },
  {
   "cell_type": "code",
   "execution_count": null,
   "metadata": {},
   "outputs": [],
   "source": [
    "july_trip.rename(columns ={'pubTimeStamp':'PubTimeStamp', 'tripRecordNum':'TripID', 'sumdID':'TruckID', 'tripDuration':'TripDuration', 'tripDistance':'TripDistance', 'startTime':'StartTime', 'endTime':'EndTime', 'startLatitude':'StartLatitude', 'startLongitude':'StartLongitude', 'endLatitude':'EndLatitude', 'endLongitude':'EndLongitude', 'tripRoute':'TripRoute', 'startDate': 'TripDate'}, inplace= True)"
   ]
  },
  {
   "cell_type": "code",
   "execution_count": null,
   "metadata": {},
   "outputs": [],
   "source": [
    "july_trip['DriverID'] = np.random.randint(1, 2000, july_trip.shape[0])\n",
    "july_trip['AvgSpeed'] = np.random.randint(15, 80, july_trip.shape[0])\n",
    "july_trip['IdleTime'] = np.random.randint(0, 120, july_trip.shape[0])\n",
    "july_trip['TirePressure'] = np.random.randint(55, 90, july_trip.shape[0])\n",
    "july_trip['GPSLastErrorType'] = 0\n",
    "july_trip['StartLatitude'] = 0\n",
    "july_trip['StartLongitude'] = 0\n",
    "july_trip['Points'] = 0"
   ]
  },
  {
   "cell_type": "code",
   "execution_count": null,
   "metadata": {},
   "outputs": [],
   "source": [
    "gmaps = googlemaps.Client(key='YOUR API') #Remove after "
   ]
  },
  {
   "cell_type": "code",
   "execution_count": null,
   "metadata": {},
   "outputs": [],
   "source": [
    "geocode_result = gmaps.geocode('50 Airways Blvd, Nashville, TN 37217')"
   ]
  },
  {
   "cell_type": "code",
   "execution_count": null,
   "metadata": {},
   "outputs": [],
   "source": [
    "july_trip['StartLatitude'] = geocode_result[0]['geometry']['location']['lat']\n",
    "july_trip['StartLongitude'] = geocode_result[0]['geometry']['location']['lng']"
   ]
  },
  {
   "cell_type": "code",
   "execution_count": null,
   "metadata": {},
   "outputs": [],
   "source": [
    "july_trip.info()"
   ]
  },
  {
   "cell_type": "code",
   "execution_count": null,
   "metadata": {},
   "outputs": [],
   "source": [
    "july_trip.head()"
   ]
  },
  {
   "cell_type": "code",
   "execution_count": null,
   "metadata": {},
   "outputs": [],
   "source": [
    "#Converting to pkl for space\n",
    "\n",
    "july_trip.to_pickle(\"../data/july.pkl\")"
   ]
  }
 ],
 "metadata": {
  "interpreter": {
   "hash": "2647ea34e536f865ab67ff9ddee7fd78773d956cec0cab53c79b32cd10da5d83"
  },
  "kernelspec": {
   "display_name": "Python 3.9.8 64-bit",
   "language": "python",
   "name": "python3"
  },
  "language_info": {
   "codemirror_mode": {
    "name": "ipython",
    "version": 3
   },
   "file_extension": ".py",
   "mimetype": "text/x-python",
   "name": "python",
   "nbconvert_exporter": "python",
   "pygments_lexer": "ipython3",
   "version": "3.8.5"
  },
  "orig_nbformat": 4
 },
 "nbformat": 4,
 "nbformat_minor": 2
}
